{
 "cells": [
  {
   "cell_type": "code",
   "execution_count": 11,
   "metadata": {},
   "outputs": [
    {
     "name": "stdout",
     "output_type": "stream",
     "text": [
      "['siva', 'ram', 'amar', 'ashok', 'revan', 'syed']\n",
      "['siva', 'ram', 'amar', 'ashok', 'revan', 'syed']\n",
      "['siva', 'ram', 'amar', 'ashok', 'revan', 'syed']\n",
      "['siva', 'ram', 'amar', 'ashok', 'revan', 'syed']\n",
      "['siva', 'ram', 'amar', 'ashok', 'revan', 'syed']\n",
      "['siva', 'ram', 'amar', 'ashok', 'revan', 'syed']\n",
      "['siva', 'ram', 'amar', 'ashok', 'revan', 'syed']\n"
     ]
    }
   ],
   "source": [
    "students = ['siva','ram','amar','ashok','revan','syed']\n",
    "print (students)\n",
    "for student in students:\n",
    "    print (students)"
   ]
  },
  {
   "cell_type": "code",
   "execution_count": 30,
   "metadata": {},
   "outputs": [
    {
     "name": "stdout",
     "output_type": "stream",
     "text": [
      "Siva,you are doing good\n",
      "Ram,you are doing good\n",
      "Amar,you are doing good\n",
      "Ashok,you are doing good\n",
      "Revan,you are doing good\n",
      "Syed,you are doing good\n"
     ]
    }
   ],
   "source": [
    "students = ['siva','ram','amar','ashok','revan','syed']\n",
    "for students in students:\n",
    "    print (f\"{students.title()},you are doing good\")"
   ]
  },
  {
   "cell_type": "code",
   "execution_count": 36,
   "metadata": {},
   "outputs": [
    {
     "name": "stdout",
     "output_type": "stream",
     "text": [
      "1\n",
      "2\n",
      "3\n",
      "4\n",
      "5\n",
      "6\n",
      "7\n",
      "8\n",
      "9\n"
     ]
    }
   ],
   "source": [
    "for numbers in range (1,10):\n",
    "    print (numbers)"
   ]
  },
  {
   "cell_type": "code",
   "execution_count": null,
   "metadata": {},
   "outputs": [],
   "source": []
  }
 ],
 "metadata": {
  "kernelspec": {
   "display_name": "Python 3",
   "language": "python",
   "name": "python3"
  },
  "language_info": {
   "codemirror_mode": {
    "name": "ipython",
    "version": 3
   },
   "file_extension": ".py",
   "mimetype": "text/x-python",
   "name": "python",
   "nbconvert_exporter": "python",
   "pygments_lexer": "ipython3",
   "version": "3.7.3"
  }
 },
 "nbformat": 4,
 "nbformat_minor": 2
}
