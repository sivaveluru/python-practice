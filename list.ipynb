{
 "cells": [
  {
   "cell_type": "code",
   "execution_count": 61,
   "metadata": {},
   "outputs": [
    {
     "name": "stdout",
     "output_type": "stream",
     "text": [
      "['ranger', 'hero', 'macha', 'atlas']\n",
      "hero\n",
      "macha\n",
      "atlas\n"
     ]
    }
   ],
   "source": [
    "bicycles = ['ranger','hero','macha','atlas']\n",
    "print (bicycles)\n",
    "print (bicycles[1])\n",
    "print (bicycles[2])\n",
    "print (bicycles[3])"
   ]
  },
  {
   "cell_type": "code",
   "execution_count": 65,
   "metadata": {},
   "outputs": [
    {
     "name": "stdout",
     "output_type": "stream",
     "text": [
      "my first bycycle was a Hero\n"
     ]
    }
   ],
   "source": [
    "bicycles = ['ranger','hero','macha','atlas']\n",
    "message =  f\"my first bycycle was a {bicycles[1].title()}\"\n",
    "print(message)"
   ]
  },
  {
   "cell_type": "code",
   "execution_count": 66,
   "metadata": {},
   "outputs": [
    {
     "name": "stdout",
     "output_type": "stream",
     "text": [
      "['hero', 'hero', 'macha', 'atlas']\n"
     ]
    }
   ],
   "source": [
    "bicycles = ['ranger','hero','macha','atlas']\n",
    "bicycles[0]='hero'\n",
    "print (bicycles)"
   ]
  },
  {
   "cell_type": "code",
   "execution_count": null,
   "metadata": {},
   "outputs": [],
   "source": []
  }
 ],
 "metadata": {
  "kernelspec": {
   "display_name": "Python 3",
   "language": "python",
   "name": "python3"
  },
  "language_info": {
   "codemirror_mode": {
    "name": "ipython",
    "version": 3
   },
   "file_extension": ".py",
   "mimetype": "text/x-python",
   "name": "python",
   "nbconvert_exporter": "python",
   "pygments_lexer": "ipython3",
   "version": "3.7.3"
  }
 },
 "nbformat": 4,
 "nbformat_minor": 2
}
